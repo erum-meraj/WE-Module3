{
  "nbformat": 4,
  "nbformat_minor": 0,
  "metadata": {
    "colab": {
      "provenance": []
    },
    "kernelspec": {
      "name": "python3",
      "display_name": "Python 3"
    },
    "language_info": {
      "name": "python"
    }
  },
  "cells": [
    {
      "cell_type": "code",
      "execution_count": null,
      "metadata": {
        "id": "r6R5sRuoDcUJ"
      },
      "outputs": [],
      "source": [
        "def number_to_words(number, region):\n",
        "    # Dictionaries for number words\n",
        "    indian_words = {\n",
        "        0: '', 1: 'One', 2: 'Two', 3: 'Three', 4: 'Four', 5: 'Five', 6: 'Six', 7: 'Seven', 8: 'Eight', 9: 'Nine',\n",
        "        10: 'Ten', 11: 'Eleven', 12: 'Twelve', 13: 'Thirteen', 14: 'Fourteen', 15: 'Fifteen', 16: 'Sixteen',\n",
        "        17: 'Seventeen', 18: 'Eighteen', 19: 'Nineteen', 20: 'Twenty', 30: 'Thirty', 40: 'Forty', 50: 'Fifty',\n",
        "        60: 'Sixty', 70: 'Seventy', 80: 'Eighty', 90: 'Ninety',\n",
        "    }\n",
        "\n",
        "    western_words = {\n",
        "        0: '', 1: 'One', 2: 'Two', 3: 'Three', 4: 'Four', 5: 'Five', 6: 'Six', 7: 'Seven', 8: 'Eight', 9: 'Nine',\n",
        "    }\n",
        "\n",
        "    # Dictionary for scale names\n",
        "    scale_names = {\n",
        "        2: 'Hundred', 3: 'Thousand', 5: 'Lakh', 7: 'Crore', 6: 'Million', 9: 'Billion',\n",
        "    }\n",
        "\n",
        "    # Recursive function to convert number to words\n",
        "    def convert_to_words(n, scale):\n",
        "        if n == 0:\n",
        "            return ''\n",
        "        elif n < 20:\n",
        "            return indian_words[n] if region == \"I\" else western_words[n]\n",
        "        elif n < 100:\n",
        "            return indian_words[(n // 10) * 10] + ' ' + convert_to_words(n % 10, scale)\n",
        "        else:\n",
        "            return indian_words[n // scale] + ' ' + scale_names[scale] + ' ' + convert_to_words(n % scale, scale)\n",
        "\n",
        "    if region == \"I\":\n",
        "        scale_factor = 100\n",
        "        final_scale = 10000000\n",
        "    else:\n",
        "        scale_factor = 1000\n",
        "        final_scale = 1000000\n",
        "\n",
        "    words = convert_to_words(number // final_scale, scale_factor)\n",
        "    remainder = convert_to_words(number % final_scale, scale_factor)\n",
        "\n",
        "    if remainder:\n",
        "        if region == \"I\":\n",
        "            words += ' Crore ' if number // final_scale > 1 else ' Crore'\n",
        "        else:\n",
        "            words += ' Million ' if number // final_scale > 1 else ' Million'\n",
        "\n",
        "        words += remainder\n",
        "\n",
        "    return words\n"
      ]
    }
  ]
}